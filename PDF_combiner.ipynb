{
 "cells": [
  {
   "cell_type": "code",
   "execution_count": null,
   "metadata": {},
   "outputs": [],
   "source": [
    "import PySimpleGUI as sg\n",
    "import PyPDF2\n",
    "import warnings\n",
    "\n",
    "def submit_func():\n",
    "    merger = PyPDF2.PdfFileMerger()\n",
    "    for i in range(number):\n",
    "        merger.append(values[i])\n",
    "    merger.write(\"combined_file.pdf\")\n",
    "    merger.close()\n",
    "    \n",
    "    sg.popup(\"The combined PDF file has been output successfully as [combined_file.pdf]\")\n",
    "\n",
    "warnings.simplefilter(\"ignore\")\n",
    "\n",
    "#Number of files\n",
    "number = 2\n",
    "\n",
    "sg.theme(\"SandyBeach\")\n",
    "\n",
    "layout = [[sg.Text(\"Browse 2 or more pdf files you want to combine\")],\n",
    "          [sg.Text(\"File 1\", size=(8, 1)),sg.Input(), sg.FileBrowse()],\n",
    "          [sg.Text(\"File 2\", size=(8, 1)),sg.Input(), sg.FileBrowse()],\n",
    "          [sg.Button(\"AddFile\", key=\"AddFile\"),sg.Submit(), sg.Cancel()]]\n",
    "\n",
    "window = sg.Window(\"PDF combiner\", layout)\n",
    "\n",
    "while True:\n",
    "    event, values = window.read()\n",
    "\n",
    "    if event in [None,\"Cancel\"]:\n",
    "        break\n",
    "    elif event == \"AddFile\":\n",
    "        number += 1\n",
    "        new_layout = [[sg.Text(\"Browse 2 or more pdf files you want to combine\")],\n",
    "              [sg.Text(\"File 1\", size=(8, 1)),sg.Input(), sg.FileBrowse()],\n",
    "              [sg.Text(\"File 2\", size=(8, 1)),sg.Input(), sg.FileBrowse()],\n",
    "              [sg.Button(\"AddFile\", key=\"AddFile\"),sg.Submit(), sg.Cancel()]]\n",
    "        for i in range(number-2):\n",
    "            additional_file = [sg.Text(\"File {}\".format(i+3), size=(8, 1)),sg.Input(), sg.FileBrowse()]\n",
    "            new_layout.insert(i+3 , additional_file)\n",
    "        window.close()\n",
    "        window = sg.Window(\"PDF combiner\", new_layout)\n",
    "    elif event == \"Submit\":\n",
    "        if values[0] and values[1] != None:\n",
    "            submit_func()\n",
    "            break\n",
    "        else:\n",
    "            sg.popup(\"Please browse more than 2 files\")\n",
    "\n",
    "window.close()"
   ]
  }
 ],
 "metadata": {
  "kernelspec": {
   "display_name": "Python 3",
   "language": "python",
   "name": "python3"
  },
  "language_info": {
   "codemirror_mode": {
    "name": "ipython",
    "version": 3
   },
   "file_extension": ".py",
   "mimetype": "text/x-python",
   "name": "python",
   "nbconvert_exporter": "python",
   "pygments_lexer": "ipython3",
   "version": "3.7.4"
  }
 },
 "nbformat": 4,
 "nbformat_minor": 2
}
